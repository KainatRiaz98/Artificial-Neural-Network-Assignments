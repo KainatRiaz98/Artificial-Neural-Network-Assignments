{
  "nbformat": 4,
  "nbformat_minor": 0,
  "metadata": {
    "colab": {
      "provenance": []
    },
    "kernelspec": {
      "name": "python3",
      "display_name": "Python 3"
    },
    "language_info": {
      "name": "python"
    }
  },
  "cells": [
    {
      "cell_type": "code",
      "metadata": {
        "id": "BL9m06DFGcMc"
      },
      "source": [
        "import torch\n",
        "i1 = torch.tensor(0.05)\n",
        "i2 = torch.tensor(0.10)\n",
        "w1 =torch.tensor(0.15, requires_grad=True)\n",
        "w2 =torch.tensor(0.20, requires_grad=True)\n",
        "w3 =torch.tensor(0.25, requires_grad=True)\n",
        "w4 =torch.tensor(0.30, requires_grad=True)\n",
        "w5 =torch.tensor(0.40, requires_grad=True)\n",
        "w6 =torch.tensor(0.45, requires_grad=True)\n",
        "w7 =torch.tensor(0.50, requires_grad=True)\n",
        "w8 =torch.tensor(0.55, requires_grad=True)\n",
        "b1 =torch.tensor(0.35, requires_grad=True)\n",
        "b2 =torch.tensor(0.60, requires_grad=True)\n",
        "targeto1=torch.tensor(0.01)\n",
        "targeto2=torch.tensor(0.99)"
      ],
      "execution_count": null,
      "outputs": []
    },
    {
      "cell_type": "code",
      "metadata": {
        "colab": {
          "base_uri": "https://localhost:8080/"
        },
        "id": "intQvy-aIP7k",
        "outputId": "8af53a79-0137-477c-dcca-7610da3d59dd"
      },
      "source": [
        "neth1=w1*i1+w2*i2+b1*1\n",
        "neth2=w3*i1+w4*i2+b1*1\n",
        "\n",
        "outh1=1/(1+torch.exp(-1*neth1))\n",
        "outh2=1/(1+torch.exp(-1*neth2))\n",
        "neth1,neth2,outh1,outh2"
      ],
      "execution_count": null,
      "outputs": [
        {
          "output_type": "execute_result",
          "data": {
            "text/plain": [
              "(tensor(0.3775, grad_fn=<AddBackward0>),\n",
              " tensor(0.3925, grad_fn=<AddBackward0>),\n",
              " tensor(0.5933, grad_fn=<MulBackward0>),\n",
              " tensor(0.5969, grad_fn=<MulBackward0>))"
            ]
          },
          "metadata": {
            "tags": []
          },
          "execution_count": 16
        }
      ]
    },
    {
      "cell_type": "code",
      "metadata": {
        "colab": {
          "base_uri": "https://localhost:8080/"
        },
        "id": "5Dcw1pPwJaYD",
        "outputId": "e83e48bf-2efb-41b8-ade1-e46a36cd709d"
      },
      "source": [
        "neto1=outh1*w5+outh2*w6+b2*1\n",
        "neto2=outh1*w7+outh2*w8+b2*1\n",
        "outo1=1/(1+torch.exp(-1*neto1))\n",
        "outo2=1/(1+torch.exp(-1*neto2))\n",
        "neto1,neto2,outo1,outo2\n"
      ],
      "execution_count": null,
      "outputs": [
        {
          "output_type": "execute_result",
          "data": {
            "text/plain": [
              "(tensor(1.1059, grad_fn=<AddBackward0>),\n",
              " tensor(1.2249, grad_fn=<AddBackward0>),\n",
              " tensor(0.7514, grad_fn=<MulBackward0>),\n",
              " tensor(0.7729, grad_fn=<MulBackward0>))"
            ]
          },
          "metadata": {
            "tags": []
          },
          "execution_count": 17
        }
      ]
    },
    {
      "cell_type": "code",
      "metadata": {
        "colab": {
          "base_uri": "https://localhost:8080/"
        },
        "id": "zyClOiYUKN2t",
        "outputId": "9a829392-4910-415d-a1a4-680cd4af16dd"
      },
      "source": [
        "Eo1=(1/2)*(targeto1-outo1)**2\n",
        "Eo2=(1/2)*(targeto2-outo2)**2\n",
        "Etotal=Eo1+Eo2\n",
        "Eo1,Eo2,Etotal"
      ],
      "execution_count": null,
      "outputs": [
        {
          "output_type": "execute_result",
          "data": {
            "text/plain": [
              "(tensor(0.2748, grad_fn=<MulBackward0>),\n",
              " tensor(0.0236, grad_fn=<MulBackward0>),\n",
              " tensor(0.2984, grad_fn=<AddBackward0>))"
            ]
          },
          "metadata": {
            "tags": []
          },
          "execution_count": 18
        }
      ]
    },
    {
      "cell_type": "code",
      "metadata": {
        "id": "b8c8-YWLLNbx"
      },
      "source": [
        "Etotal.backward()"
      ],
      "execution_count": null,
      "outputs": []
    },
    {
      "cell_type": "code",
      "metadata": {
        "colab": {
          "base_uri": "https://localhost:8080/"
        },
        "id": "3kX8O6HbMIbS",
        "outputId": "f60d2579-8993-412a-d899-9a86446d76a7"
      },
      "source": [
        "print('dEtotal/di1:', i1.grad)\n",
        "print('dEtotal/di2:', i2.grad)\n",
        "print('dEtotal/dw1:', w1.grad)\n",
        "print('dEtotal/dw2:', w2.grad)\n",
        "print('dEtotal/dw3:', w3.grad)\n",
        "print('dEtotal/dw4:', w4.grad)\n",
        "print('dEtotal/dw5:', w5.grad)\n",
        "print('dEtotal/dw6:', w6.grad)\n",
        "print('dEtotal/dw7:', w7.grad)\n",
        "print('dEtotal/dw8:', w8.grad)\n"
      ],
      "execution_count": null,
      "outputs": [
        {
          "output_type": "stream",
          "text": [
            "dEtotal/di1: None\n",
            "dEtotal/di2: None\n",
            "dEtotal/dw1: tensor(0.0004)\n",
            "dEtotal/dw2: tensor(0.0009)\n",
            "dEtotal/dw3: tensor(0.0005)\n",
            "dEtotal/dw4: tensor(0.0010)\n",
            "dEtotal/dw5: tensor(0.0822)\n",
            "dEtotal/dw6: tensor(0.0827)\n",
            "dEtotal/dw7: tensor(-0.0226)\n",
            "dEtotal/dw8: tensor(-0.0227)\n"
          ],
          "name": "stdout"
        }
      ]
    },
    {
      "cell_type": "code",
      "metadata": {
        "colab": {
          "base_uri": "https://localhost:8080/"
        },
        "id": "44GzhXQTNDbJ",
        "outputId": "29fee016-2176-4bf3-c5ab-737ac96afdf3"
      },
      "source": [
        "#lets take learning rate as 0.5\n",
        "LR=0.5\n",
        "w1_new=w1-LR*w1.grad\n",
        "w2_new=w2-LR*w2.grad\n",
        "w3_new=w3-LR*w3.grad\n",
        "w4_new=w4-LR*w4.grad\n",
        "w5_new=w5-LR*w5.grad\n",
        "w6_new=w6-LR*w6.grad\n",
        "w7_new=w7-LR*w7.grad\n",
        "w8_new=w8-LR*w8.grad\n",
        "\n",
        "print(\"w1+ = \",w1_new)\n",
        "print(\"w2+ = \",w2_new)\n",
        "print(\"w3+ = \",w3_new)\n",
        "print(\"w4+ = \",w4_new)\n",
        "print(\"w5+ = \",w5_new)\n",
        "print(\"w6+ = \",w6_new)\n",
        "print(\"w7+ = \",w7_new)\n",
        "print(\"w8+ = \",w8_new)"
      ],
      "execution_count": null,
      "outputs": [
        {
          "output_type": "stream",
          "text": [
            "w1+ =  tensor(0.1498, grad_fn=<SubBackward0>)\n",
            "w2+ =  tensor(0.1996, grad_fn=<SubBackward0>)\n",
            "w3+ =  tensor(0.2498, grad_fn=<SubBackward0>)\n",
            "w4+ =  tensor(0.2995, grad_fn=<SubBackward0>)\n",
            "w5+ =  tensor(0.3589, grad_fn=<SubBackward0>)\n",
            "w6+ =  tensor(0.4087, grad_fn=<SubBackward0>)\n",
            "w7+ =  tensor(0.5113, grad_fn=<SubBackward0>)\n",
            "w8+ =  tensor(0.5614, grad_fn=<SubBackward0>)\n"
          ],
          "name": "stdout"
        }
      ]
    }
  ]
}