{
  "nbformat": 4,
  "nbformat_minor": 0,
  "metadata": {
    "colab": {
      "provenance": []
    },
    "kernelspec": {
      "name": "python3",
      "display_name": "Python 3"
    },
    "language_info": {
      "name": "python"
    }
  },
  "cells": [
    {
      "cell_type": "code",
      "metadata": {
        "colab": {
          "base_uri": "https://localhost:8080/"
        },
        "id": "t4WRJXXv645O",
        "outputId": "bde237fe-d21a-4c96-eb57-9805bb89631a"
      },
      "source": [
        "import numpy as np\n",
        "from google.colab import drive, files\n",
        "drive.mount('/content/drive/')\n",
        "path = \"/content/drive/My Drive/ex2data1.txt\""
      ],
      "execution_count": null,
      "outputs": [
        {
          "output_type": "stream",
          "text": [
            "Drive already mounted at /content/drive/; to attempt to forcibly remount, call drive.mount(\"/content/drive/\", force_remount=True).\n"
          ],
          "name": "stdout"
        }
      ]
    },
    {
      "cell_type": "code",
      "metadata": {
        "colab": {
          "base_uri": "https://localhost:8080/",
          "height": 336
        },
        "id": "Q4UZdcsX7C14",
        "outputId": "e5ad1946-6c71-4338-b428-57689abe266a"
      },
      "source": [
        "import os\n",
        "import matplotlib.pyplot as plt\n",
        "data = np.loadtxt(os.path.join('Data', path ), delimiter=',')\n",
        "X, Y = data[:, 0], data[:, 1]\n",
        "print(X.shape)\n",
        "print(Y.shape)\n",
        "X=X.reshape(97,1)\n",
        "Y=Y.reshape(97,1)\n",
        "print(X.shape)\n",
        "print(Y.shape)\n",
        "\n",
        "def plotdata(a,b):\n",
        "\n",
        "  plt.plot(a,b,'x',color='red')\n",
        "\n",
        "  return\n",
        "\n",
        "plotdata(X,Y)  # function Call\n",
        "plt.show()"
      ],
      "execution_count": null,
      "outputs": [
        {
          "output_type": "stream",
          "text": [
            "(97,)\n",
            "(97,)\n",
            "(97, 1)\n",
            "(97, 1)\n"
          ],
          "name": "stdout"
        },
        {
          "output_type": "display_data",
          "data": {
            "image/png": "[encoded data removed]",
            "text/plain": [
              "<Figure size 432x288 with 1 Axes>"
            ]
          },
          "metadata": {
            "tags": [],
            "needs_background": "light"
          }
        }
      ]
    },
    {
      "cell_type": "code",
      "metadata": {
        "id": "Xls6nI6v7H72",
        "colab": {
          "base_uri": "https://localhost:8080/"
        },
        "outputId": "69727c10-72a3-4f7d-e1d8-609c73897adf"
      },
      "source": [
        "import torch\n",
        "inputs = torch.from_numpy(X)\n",
        "targets = torch.from_numpy(Y)\n",
        "inputs=inputs.float()\n",
        "targets=targets.float()\n",
        "print(inputs.dtype)"
      ],
      "execution_count": null,
      "outputs": [
        {
          "output_type": "stream",
          "text": [
            "torch.float32\n"
          ],
          "name": "stdout"
        }
      ]
    },
    {
      "cell_type": "code",
      "metadata": {
        "id": "xc3Oh6Dz7Nqp"
      },
      "source": [
        "import torch.nn as nn"
      ],
      "execution_count": null,
      "outputs": []
    },
    {
      "cell_type": "code",
      "metadata": {
        "colab": {
          "base_uri": "https://localhost:8080/"
        },
        "id": "dMWvmVge7SFJ",
        "outputId": "5b75d8e9-e239-4233-9051-e99d0b7f4b82"
      },
      "source": [
        "from torch.utils.data import TensorDataset\n",
        "train_ds = TensorDataset(inputs, targets)\n",
        "train_ds[0:3]"
      ],
      "execution_count": null,
      "outputs": [
        {
          "output_type": "execute_result",
          "data": {
            "text/plain": [
              "(tensor([[6.1101],\n",
              "         [5.5277],\n",
              "         [8.5186]]), tensor([[17.5920],\n",
              "         [ 9.1302],\n",
              "         [13.6620]]))"
            ]
          },
          "metadata": {
            "tags": []
          },
          "execution_count": 29
        }
      ]
    },
    {
      "cell_type": "code",
      "metadata": {
        "colab": {
          "base_uri": "https://localhost:8080/"
        },
        "id": "DMyJwKCB7S4G",
        "outputId": "1d300602-1515-4ef3-9bad-819624a6abb8"
      },
      "source": [
        "import torch.nn.functional as F\n",
        "from torch.utils.data import DataLoader\n",
        "batch_size = 5\n",
        "train_dl = DataLoader(train_ds, batch_size, shuffle=False)\n",
        "for xb, yb in train_dl:\n",
        "    print(xb)\n",
        "    print(yb)\n",
        "    break\n",
        "model = nn.Linear(1,1)\n",
        "output = model(inputs)\n",
        "print(output.size())\n",
        "loss_fn = F.mse_loss\n",
        "loss = loss_fn(model(inputs), targets)\n",
        "print(loss)\n",
        "opt = torch.optim.SGD(model.parameters(), lr=0.01)"
      ],
      "execution_count": null,
      "outputs": [
        {
          "output_type": "stream",
          "text": [
            "tensor([[6.1101],\n",
            "        [5.5277],\n",
            "        [8.5186],\n",
            "        [7.0032],\n",
            "        [5.8598]])\n",
            "tensor([[17.5920],\n",
            "        [ 9.1302],\n",
            "        [13.6620],\n",
            "        [11.8540],\n",
            "        [ 6.8233]])\n",
            "torch.Size([97, 1])\n",
            "tensor(149.3522, grad_fn=<MseLossBackward>)\n"
          ],
          "name": "stdout"
        }
      ]
    },
    {
      "cell_type": "code",
      "metadata": {
        "id": "VwQ6MSD17Yu9"
      },
      "source": [
        "# Utility function to train the model\n",
        "def fit(num_epochs, model, loss_fn, opt, train_dl):\n",
        "\n",
        "    # Repeat for given number of epochs\n",
        "    for epoch in range(num_epochs):\n",
        "\n",
        "        # Train with batches of data\n",
        "        for xb,yb in train_dl:\n",
        "\n",
        "            # 1. Generate predictions\n",
        "            pred = model(xb)\n",
        "\n",
        "            # 2. Calculate loss\n",
        "            loss = loss_fn(pred, yb)\n",
        "\n",
        "            # 3. Compute gradients\n",
        "            loss.backward()\n",
        "\n",
        "            # 4. Update parameters using gradients\n",
        "            opt.step()\n",
        "\n",
        "            # 5. Reset the gradients to zero\n",
        "            opt.zero_grad()\n",
        "\n",
        "        # Print the progress\n",
        "        if (epoch+1) % 10 == 0:\n",
        "            print('Epoch [{}/{}], Loss: {:.4f}'.format(epoch+1, num_epochs, loss.item()))"
      ],
      "execution_count": null,
      "outputs": []
    },
    {
      "cell_type": "code",
      "metadata": {
        "colab": {
          "base_uri": "https://localhost:8080/"
        },
        "id": "lVRCsRx_7cE5",
        "outputId": "ec978f52-5e1b-49c5-f68b-766fcb83d805"
      },
      "source": [
        "fit(100, model, loss_fn, opt, train_dl)\n"
      ],
      "execution_count": null,
      "outputs": [
        {
          "output_type": "stream",
          "text": [
            "Epoch [10/100], Loss: 6.4669\n",
            "Epoch [20/100], Loss: 6.2895\n",
            "Epoch [30/100], Loss: 6.1360\n",
            "Epoch [40/100], Loss: 6.0030\n",
            "Epoch [50/100], Loss: 5.8876\n",
            "Epoch [60/100], Loss: 5.7873\n",
            "Epoch [70/100], Loss: 5.7000\n",
            "Epoch [80/100], Loss: 5.6240\n",
            "Epoch [90/100], Loss: 5.5577\n",
            "Epoch [100/100], Loss: 5.4999\n"
          ],
          "name": "stdout"
        }
      ]
    },
    {
      "cell_type": "code",
      "metadata": {
        "colab": {
          "base_uri": "https://localhost:8080/"
        },
        "id": "nnzEK9Kk0MSK",
        "outputId": "84460d25-b354-44d1-da1d-e3dc8e97c455"
      },
      "source": [
        "preds = model(inputs)\n",
        "preds"
      ],
      "execution_count": null,
      "outputs": [
        {
          "output_type": "execute_result",
          "data": {
            "text/plain": [
              "tensor([[ 4.4267],\n",
              "        [ 3.9764],\n",
              "        [ 6.2889],\n",
              "        [ 5.1172],\n",
              "        [ 4.2331],\n",
              "        [ 6.1840],\n",
              "        [ 5.4831],\n",
              "        [ 6.3349],\n",
              "        [ 4.7175],\n",
              "        [ 3.6106],\n",
              "        [ 4.1179],\n",
              "        [10.6540],\n",
              "        [ 4.1359],\n",
              "        [ 6.2037],\n",
              "        [ 4.0637],\n",
              "        [ 3.8617],\n",
              "        [ 4.6241],\n",
              "        [ 3.6689],\n",
              "        [ 4.6737],\n",
              "        [ 5.1695],\n",
              "        [ 4.4878],\n",
              "        [15.3751],\n",
              "        [ 3.9473],\n",
              "        [ 4.5937],\n",
              "        [ 4.0051],\n",
              "        [14.3506],\n",
              "        [ 9.6210],\n",
              "        [ 8.1743],\n",
              "        [ 9.8900],\n",
              "        [16.8697],\n",
              "        [ 3.7635],\n",
              "        [ 4.7973],\n",
              "        [ 6.8531],\n",
              "        [ 4.2579],\n",
              "        [ 6.0512],\n",
              "        [ 5.8365],\n",
              "        [ 5.9621],\n",
              "        [ 4.0371],\n",
              "        [ 9.6272],\n",
              "        [ 4.6148],\n",
              "        [ 3.8830],\n",
              "        [ 5.0239],\n",
              "        [ 8.7550],\n",
              "        [ 4.1666],\n",
              "        [ 5.7524],\n",
              "        [ 5.1867],\n",
              "        [ 3.6226],\n",
              "        [ 4.1880],\n",
              "        [ 8.7488],\n",
              "        [ 3.9871],\n",
              "        [ 5.5324],\n",
              "        [ 3.8063],\n",
              "        [ 5.4425],\n",
              "        [ 5.5811],\n",
              "        [ 4.5989],\n",
              "        [ 4.6191],\n",
              "        [ 4.5536],\n",
              "        [ 4.0630],\n",
              "        [ 6.9010],\n",
              "        [ 7.0119],\n",
              "        [ 6.5262],\n",
              "        [ 3.7070],\n",
              "        [16.1553],\n",
              "        [11.2292],\n",
              "        [14.3615],\n",
              "        [ 5.2835],\n",
              "        [ 6.1161],\n",
              "        [ 7.6168],\n",
              "        [ 3.9545],\n",
              "        [15.4300],\n",
              "        [ 7.5395],\n",
              "        [ 5.3734],\n",
              "        [ 4.3463],\n",
              "        [ 5.2894],\n",
              "        [ 3.5891],\n",
              "        [ 4.7652],\n",
              "        [ 5.5312],\n",
              "        [ 3.5966],\n",
              "        [ 7.6462],\n",
              "        [ 3.6516],\n",
              "        [ 4.1322],\n",
              "        [ 3.7140],\n",
              "        [ 4.6166],\n",
              "        [ 7.2555],\n",
              "        [ 4.7404],\n",
              "        [ 6.2879],\n",
              "        [ 6.8005],\n",
              "        [ 4.3431],\n",
              "        [ 3.9707],\n",
              "        [ 3.6143],\n",
              "        [ 4.1155],\n",
              "        [ 5.6070],\n",
              "        [ 4.2416],\n",
              "        [ 3.8045],\n",
              "        [ 6.1148],\n",
              "        [10.0586],\n",
              "        [ 3.9062]], grad_fn=<AddmmBackward>)"
            ]
          },
          "metadata": {
            "tags": []
          },
          "execution_count": 33
        }
      ]
    },
    {
      "cell_type": "code",
      "metadata": {
        "id": "81eKxf-xxdGU",
        "colab": {
          "base_uri": "https://localhost:8080/"
        },
        "outputId": "357edc9c-ecfb-4412-a401-bd827e56e20a"
      },
      "source": [
        "targets"
      ],
      "execution_count": null,
      "outputs": [
        {
          "output_type": "execute_result",
          "data": {
            "text/plain": [
              "tensor([[17.5920],\n",
              "        [ 9.1302],\n",
              "        [13.6620],\n",
              "        [11.8540],\n",
              "        [ 6.8233],\n",
              "        [11.8860],\n",
              "        [ 4.3483],\n",
              "        [12.0000],\n",
              "        [ 6.5987],\n",
              "        [ 3.8166],\n",
              "        [ 3.2522],\n",
              "        [15.5050],\n",
              "        [ 3.1551],\n",
              "        [ 7.2258],\n",
              "        [ 0.7162],\n",
              "        [ 3.5129],\n",
              "        [ 5.3048],\n",
              "        [ 0.5608],\n",
              "        [ 3.6518],\n",
              "        [ 5.3893],\n",
              "        [ 3.1386],\n",
              "        [21.7670],\n",
              "        [ 4.2630],\n",
              "        [ 5.1875],\n",
              "        [ 3.0825],\n",
              "        [22.6380],\n",
              "        [13.5010],\n",
              "        [ 7.0467],\n",
              "        [14.6920],\n",
              "        [24.1470],\n",
              "        [-1.2200],\n",
              "        [ 5.9966],\n",
              "        [12.1340],\n",
              "        [ 1.8495],\n",
              "        [ 6.5426],\n",
              "        [ 4.5623],\n",
              "        [ 4.1164],\n",
              "        [ 3.3928],\n",
              "        [10.1170],\n",
              "        [ 5.4974],\n",
              "        [ 0.5566],\n",
              "        [ 3.9115],\n",
              "        [ 5.3854],\n",
              "        [ 2.4406],\n",
              "        [ 6.7318],\n",
              "        [ 1.0463],\n",
              "        [ 5.1337],\n",
              "        [ 1.8440],\n",
              "        [ 8.0043],\n",
              "        [ 1.0179],\n",
              "        [ 6.7504],\n",
              "        [ 1.8396],\n",
              "        [ 4.2885],\n",
              "        [ 4.9981],\n",
              "        [ 1.4233],\n",
              "        [-1.4211],\n",
              "        [ 2.4756],\n",
              "        [ 4.6042],\n",
              "        [ 3.9624],\n",
              "        [ 5.4141],\n",
              "        [ 5.1694],\n",
              "        [-0.7428],\n",
              "        [17.9290],\n",
              "        [12.0540],\n",
              "        [17.0540],\n",
              "        [ 4.8852],\n",
              "        [ 5.7442],\n",
              "        [ 7.7754],\n",
              "        [ 1.0173],\n",
              "        [20.9920],\n",
              "        [ 6.6799],\n",
              "        [ 4.0259],\n",
              "        [ 1.2784],\n",
              "        [ 3.3411],\n",
              "        [-2.6807],\n",
              "        [ 0.2968],\n",
              "        [ 3.8845],\n",
              "        [ 5.7014],\n",
              "        [ 6.7526],\n",
              "        [ 2.0576],\n",
              "        [ 0.4795],\n",
              "        [ 0.2042],\n",
              "        [ 0.6786],\n",
              "        [ 7.5435],\n",
              "        [ 5.3436],\n",
              "        [ 4.2415],\n",
              "        [ 6.7981],\n",
              "        [ 0.9269],\n",
              "        [ 0.1520],\n",
              "        [ 2.8214],\n",
              "        [ 1.8451],\n",
              "        [ 4.2959],\n",
              "        [ 7.2029],\n",
              "        [ 1.9869],\n",
              "        [ 0.1445],\n",
              "        [ 9.0551],\n",
              "        [ 0.6170]])"
            ]
          },
          "metadata": {
            "tags": []
          },
          "execution_count": 34
        }
      ]
    },
    {
      "cell_type": "code",
      "metadata": {
        "colab": {
          "base_uri": "https://localhost:8080/",
          "height": 265
        },
        "id": "s3IyfKWrpbLT",
        "outputId": "d6cf8bef-7a77-45f8-c172-53179a787aa7"
      },
      "source": [
        "plotdata(X,Y)\n",
        "with torch.no_grad():\n",
        "  plt.plot(X,model(inputs))\n",
        "\n",
        "plt.legend([ 'Linear regression','Training data',]);"
      ],
      "execution_count": null,
      "outputs": [
        {
          "output_type": "display_data",
          "data": {
            "image/png": "[encoded data removed]",
            "text/plain": [
              "<Figure size 432x288 with 1 Axes>"
            ]
          },
          "metadata": {
            "tags": [],
            "needs_background": "light"
          }
        }
      ]
    },
    {
      "cell_type": "code",
      "metadata": {
        "colab": {
          "base_uri": "https://localhost:8080/"
        },
        "id": "jk3mn6-rsOAv",
        "outputId": "88775f1a-7797-42d6-8146-7b4d1a42babf"
      },
      "source": [
        "model(torch.tensor([45.]))"
      ],
      "execution_count": null,
      "outputs": [
        {
          "output_type": "execute_result",
          "data": {
            "text/plain": [
              "tensor([34.4964], grad_fn=<AddBackward0>)"
            ]
          },
          "metadata": {
            "tags": []
          },
          "execution_count": 36
        }
      ]
    }
  ]
}