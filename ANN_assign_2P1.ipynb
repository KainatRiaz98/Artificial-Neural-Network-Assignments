{
  "nbformat": 4,
  "nbformat_minor": 0,
  "metadata": {
    "colab": {
      "provenance": []
    },
    "kernelspec": {
      "name": "python3",
      "display_name": "Python 3"
    },
    "language_info": {
      "name": "python"
    }
  },
  "cells": [
    {
      "cell_type": "code",
      "metadata": {
        "colab": {
          "base_uri": "https://localhost:8080/"
        },
        "id": "63-6SE_7tZzF",
        "outputId": "0342aeca-d2f7-4e59-d781-a671a15f62bd"
      },
      "source": [
        "import numpy as np\n",
        "from google.colab import drive, files\n",
        "drive.mount('/content/drive/')\n",
        "path = \"/content/drive/My Drive/ex2data1.txt\""
      ],
      "execution_count": null,
      "outputs": [
        {
          "output_type": "stream",
          "text": [
            "Drive already mounted at /content/drive/; to attempt to forcibly remount, call drive.mount(\"/content/drive/\", force_remount=True).\n"
          ],
          "name": "stdout"
        }
      ]
    },
    {
      "cell_type": "code",
      "metadata": {
        "colab": {
          "base_uri": "https://localhost:8080/",
          "height": 265
        },
        "id": "JmbFJa7FuNnm",
        "outputId": "fa61d22a-324e-42da-a786-3fd7da86efab"
      },
      "source": [
        "import os\n",
        "import matplotlib.pyplot as plt\n",
        "data = np.loadtxt(os.path.join('Data', path ), delimiter=',')\n",
        "X, Y = data[:, 0], data[:, 1]\n",
        "X=X.reshape(97,1)\n",
        "Y=Y.reshape(97,1)\n",
        "\n",
        "\n",
        "def plotdata(a,b):\n",
        "\n",
        "  plt.plot(a,b,'x',color='red')\n",
        "\n",
        "  return\n",
        "\n",
        "plotdata(X,Y)  # function Call\n",
        "plt.show()\n"
      ],
      "execution_count": null,
      "outputs": [
        {
          "output_type": "display_data",
          "data": {
            "image/png": "[encoded data removed]",
            "text/plain": [
              "<Figure size 432x288 with 1 Axes>"
            ]
          },
          "metadata": {
            "tags": [],
            "needs_background": "light"
          }
        }
      ]
    },
    {
      "cell_type": "code",
      "metadata": {
        "id": "_1qBGEw2uVM0"
      },
      "source": [
        "import torch\n",
        "inputs = torch.from_numpy(X)\n",
        "targets = torch.from_numpy(Y)\n",
        "inputs=inputs.float()\n",
        "targets=targets.float()\n",
        "\n"
      ],
      "execution_count": null,
      "outputs": []
    },
    {
      "cell_type": "code",
      "metadata": {
        "colab": {
          "base_uri": "https://localhost:8080/"
        },
        "id": "fE1QioDGvAg3",
        "outputId": "fa5d2d93-bf94-4be7-a916-f11b4e190017"
      },
      "source": [
        "w = torch.randn(1,1 requires_grad=True)\n",
        "b = torch.randn(1,1, requires_grad=True)\n",
        "w=w.float()\n",
        "b=b.float()\n",
        "print(w)\n",
        "print(b)"
      ],
      "execution_count": null,
      "outputs": [
        {
          "output_type": "stream",
          "text": [
            "tensor([[-2.2624]], requires_grad=True)\n",
            "tensor([[-0.0124]], requires_grad=True)\n"
          ],
          "name": "stdout"
        }
      ]
    },
    {
      "cell_type": "code",
      "metadata": {
        "id": "IL-m4DOPwNOb"
      },
      "source": [
        "def model(x):\n",
        "    return x @ w + b"
      ],
      "execution_count": null,
      "outputs": []
    },
    {
      "cell_type": "code",
      "metadata": {
        "colab": {
          "base_uri": "https://localhost:8080/"
        },
        "id": "kAgO6AXVwRPS",
        "outputId": "f6b80abc-26f3-430c-e398-f0b9aa2b217c"
      },
      "source": [
        "# Generate predictions\n",
        "preds = model(inputs)\n",
        "\n",
        "print(preds.size())"
      ],
      "execution_count": null,
      "outputs": [
        {
          "output_type": "stream",
          "text": [
            "torch.Size([97, 1])\n"
          ],
          "name": "stdout"
        }
      ]
    },
    {
      "cell_type": "code",
      "metadata": {
        "id": "4r9vk3hvx2sP"
      },
      "source": [
        "def mse(t1, t2):\n",
        "    diff = t1 - t2\n",
        "    return torch.sum(diff * diff) / diff.numel()"
      ],
      "execution_count": null,
      "outputs": []
    },
    {
      "cell_type": "code",
      "metadata": {
        "id": "YN7AZQWKx9xo"
      },
      "source": [
        "loss = mse(preds, targets)\n"
      ],
      "execution_count": null,
      "outputs": []
    },
    {
      "cell_type": "code",
      "metadata": {
        "id": "77nIkAK7yV-K"
      },
      "source": [
        "for i in range(100):\n",
        "    preds = model(inputs)\n",
        "    loss = mse(preds, targets)\n",
        "    loss.backward()\n",
        "    with torch.no_grad():\n",
        "        w -= w.grad * 0.01\n",
        "        b -= b.grad * 0.01\n",
        "        w.grad.zero_()\n",
        "        b.grad.zero_()"
      ],
      "execution_count": null,
      "outputs": []
    },
    {
      "cell_type": "code",
      "metadata": {
        "colab": {
          "base_uri": "https://localhost:8080/"
        },
        "id": "UhVJXLJWyYYX",
        "outputId": "f710c23b-00d3-494f-a5c5-fb378d82b480"
      },
      "source": [
        "preds = model(inputs)\n",
        "loss = mse(preds, targets)\n",
        "print(loss)"
      ],
      "execution_count": null,
      "outputs": [
        {
          "output_type": "stream",
          "text": [
            "tensor(10.5050, grad_fn=<DivBackward0>)\n"
          ],
          "name": "stdout"
        }
      ]
    },
    {
      "cell_type": "code",
      "metadata": {
        "colab": {
          "base_uri": "https://localhost:8080/"
        },
        "id": "n4tSJAOYx23H",
        "outputId": "797569c4-8f11-4c05-9be7-72f9f59c1411"
      },
      "source": [
        "print (targets)\n"
      ],
      "execution_count": null,
      "outputs": [
        {
          "output_type": "stream",
          "text": [
            "tensor([[17.5920],\n",
            "        [ 9.1302],\n",
            "        [13.6620],\n",
            "        [11.8540],\n",
            "        [ 6.8233],\n",
            "        [11.8860],\n",
            "        [ 4.3483],\n",
            "        [12.0000],\n",
            "        [ 6.5987],\n",
            "        [ 3.8166],\n",
            "        [ 3.2522],\n",
            "        [15.5050],\n",
            "        [ 3.1551],\n",
            "        [ 7.2258],\n",
            "        [ 0.7162],\n",
            "        [ 3.5129],\n",
            "        [ 5.3048],\n",
            "        [ 0.5608],\n",
            "        [ 3.6518],\n",
            "        [ 5.3893],\n",
            "        [ 3.1386],\n",
            "        [21.7670],\n",
            "        [ 4.2630],\n",
            "        [ 5.1875],\n",
            "        [ 3.0825],\n",
            "        [22.6380],\n",
            "        [13.5010],\n",
            "        [ 7.0467],\n",
            "        [14.6920],\n",
            "        [24.1470],\n",
            "        [-1.2200],\n",
            "        [ 5.9966],\n",
            "        [12.1340],\n",
            "        [ 1.8495],\n",
            "        [ 6.5426],\n",
            "        [ 4.5623],\n",
            "        [ 4.1164],\n",
            "        [ 3.3928],\n",
            "        [10.1170],\n",
            "        [ 5.4974],\n",
            "        [ 0.5566],\n",
            "        [ 3.9115],\n",
            "        [ 5.3854],\n",
            "        [ 2.4406],\n",
            "        [ 6.7318],\n",
            "        [ 1.0463],\n",
            "        [ 5.1337],\n",
            "        [ 1.8440],\n",
            "        [ 8.0043],\n",
            "        [ 1.0179],\n",
            "        [ 6.7504],\n",
            "        [ 1.8396],\n",
            "        [ 4.2885],\n",
            "        [ 4.9981],\n",
            "        [ 1.4233],\n",
            "        [-1.4211],\n",
            "        [ 2.4756],\n",
            "        [ 4.6042],\n",
            "        [ 3.9624],\n",
            "        [ 5.4141],\n",
            "        [ 5.1694],\n",
            "        [-0.7428],\n",
            "        [17.9290],\n",
            "        [12.0540],\n",
            "        [17.0540],\n",
            "        [ 4.8852],\n",
            "        [ 5.7442],\n",
            "        [ 7.7754],\n",
            "        [ 1.0173],\n",
            "        [20.9920],\n",
            "        [ 6.6799],\n",
            "        [ 4.0259],\n",
            "        [ 1.2784],\n",
            "        [ 3.3411],\n",
            "        [-2.6807],\n",
            "        [ 0.2968],\n",
            "        [ 3.8845],\n",
            "        [ 5.7014],\n",
            "        [ 6.7526],\n",
            "        [ 2.0576],\n",
            "        [ 0.4795],\n",
            "        [ 0.2042],\n",
            "        [ 0.6786],\n",
            "        [ 7.5435],\n",
            "        [ 5.3436],\n",
            "        [ 4.2415],\n",
            "        [ 6.7981],\n",
            "        [ 0.9269],\n",
            "        [ 0.1520],\n",
            "        [ 2.8214],\n",
            "        [ 1.8451],\n",
            "        [ 4.2959],\n",
            "        [ 7.2029],\n",
            "        [ 1.9869],\n",
            "        [ 0.1445],\n",
            "        [ 9.0551],\n",
            "        [ 0.6170]])\n"
          ],
          "name": "stdout"
        }
      ]
    },
    {
      "cell_type": "code",
      "metadata": {
        "colab": {
          "base_uri": "https://localhost:8080/"
        },
        "id": "_3LQ2qrLyPKG",
        "outputId": "1fbb5949-c5e9-4000-e1c2-b69f52bf60fa"
      },
      "source": [
        "print (preds)"
      ],
      "execution_count": null,
      "outputs": [
        {
          "output_type": "stream",
          "text": [
            "tensor([[ 4.5209],\n",
            "        [ 3.9968],\n",
            "        [ 6.6881],\n",
            "        [ 5.3245],\n",
            "        [ 4.2957],\n",
            "        [ 6.5660],\n",
            "        [ 5.7503],\n",
            "        [ 6.7416],\n",
            "        [ 4.8593],\n",
            "        [ 3.5711],\n",
            "        [ 4.1615],\n",
            "        [11.7680],\n",
            "        [ 4.1825],\n",
            "        [ 6.5889],\n",
            "        [ 4.0985],\n",
            "        [ 3.8634],\n",
            "        [ 4.7506],\n",
            "        [ 3.6391],\n",
            "        [ 4.8084],\n",
            "        [ 5.3853],\n",
            "        [ 4.5920],\n",
            "        [17.2623],\n",
            "        [ 3.9630],\n",
            "        [ 4.7152],\n",
            "        [ 4.0303],\n",
            "        [16.0700],\n",
            "        [10.5658],\n",
            "        [ 8.8822],\n",
            "        [10.8789],\n",
            "        [19.0016],\n",
            "        [ 3.7491],\n",
            "        [ 4.9522],\n",
            "        [ 7.3446],\n",
            "        [ 4.3245],\n",
            "        [ 6.4114],\n",
            "        [ 6.1615],\n",
            "        [ 6.3078],\n",
            "        [ 4.0676],\n",
            "        [10.5730],\n",
            "        [ 4.7398],\n",
            "        [ 3.8881],\n",
            "        [ 5.2159],\n",
            "        [ 9.5580],\n",
            "        [ 4.2182],\n",
            "        [ 6.0637],\n",
            "        [ 5.4054],\n",
            "        [ 3.5852],\n",
            "        [ 4.2431],\n",
            "        [ 9.5508],\n",
            "        [ 4.0093],\n",
            "        [ 5.8077],\n",
            "        [ 3.7989],\n",
            "        [ 5.7031],\n",
            "        [ 5.8643],\n",
            "        [ 4.7213],\n",
            "        [ 4.7448],\n",
            "        [ 4.6685],\n",
            "        [ 4.0976],\n",
            "        [ 7.4004],\n",
            "        [ 7.5294],\n",
            "        [ 6.9642],\n",
            "        [ 3.6833],\n",
            "        [18.1702],\n",
            "        [12.4374],\n",
            "        [16.0826],\n",
            "        [ 5.5180],\n",
            "        [ 6.4870],\n",
            "        [ 8.2335],\n",
            "        [ 3.9714],\n",
            "        [17.3262],\n",
            "        [ 8.1435],\n",
            "        [ 5.6226],\n",
            "        [ 4.4274],\n",
            "        [ 5.5249],\n",
            "        [ 3.5462],\n",
            "        [ 4.9148],\n",
            "        [ 5.8063],\n",
            "        [ 3.5548],\n",
            "        [ 8.2677],\n",
            "        [ 3.6189],\n",
            "        [ 4.1781],\n",
            "        [ 3.6915],\n",
            "        [ 4.7419],\n",
            "        [ 7.8130],\n",
            "        [ 4.8860],\n",
            "        [ 6.6868],\n",
            "        [ 7.2834],\n",
            "        [ 4.4236],\n",
            "        [ 3.9903],\n",
            "        [ 3.5754],\n",
            "        [ 4.1588],\n",
            "        [ 5.8945],\n",
            "        [ 4.3055],\n",
            "        [ 3.7968],\n",
            "        [ 6.4855],\n",
            "        [11.0751],\n",
            "        [ 3.9151]], grad_fn=<AddBackward0>)\n"
          ],
          "name": "stdout"
        }
      ]
    },
    {
      "cell_type": "code",
      "metadata": {
        "id": "N5XYEFi_fOYG",
        "colab": {
          "base_uri": "https://localhost:8080/",
          "height": 265
        },
        "outputId": "27464337-a04f-48fe-eb44-c31d1e2ae0b2"
      },
      "source": [
        "plotdata(X,Y)\n",
        "with torch.no_grad():\n",
        "  plt.plot(X,model(inputs))\n",
        "\n",
        "plt.legend([ 'Linear regression','Training data',]);"
      ],
      "execution_count": null,
      "outputs": [
        {
          "output_type": "display_data",
          "data": {
            "image/png": "[encoded data removed]",
            "text/plain": [
              "<Figure size 432x288 with 1 Axes>"
            ]
          },
          "metadata": {
            "tags": [],
            "needs_background": "light"
          }
        }
      ]
    }
  ]
}